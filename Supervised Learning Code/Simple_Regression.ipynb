{
  "nbformat": 4,
  "nbformat_minor": 0,
  "metadata": {
    "colab": {
      "provenance": []
    },
    "kernelspec": {
      "name": "python3",
      "display_name": "Python 3"
    },
    "language_info": {
      "name": "python"
    }
  },
  "cells": [
    {
      "cell_type": "code",
      "source": [
        "X, Y, XiYi, Xi2 = 0, 0, 0, 0\n",
        "n = len(x)\n",
        "for i in range(n):\n",
        "  X = X + x[i]\n",
        "  Y = Y + y[i]\n",
        "  XiYi = XiYi + x[i] * y[i]\n",
        "  Xi2 = Xi2 + x[i] ** 2\n",
        "print(n, X, Y, XiYi, Xi2)"
      ],
      "metadata": {
        "colab": {
          "base_uri": "https://localhost:8080/"
        },
        "id": "D7-mozyrTI5k",
        "outputId": "72c79128-6dfc-48d2-9d09-63ac082fc33c"
      },
      "execution_count": null,
      "outputs": [
        {
          "output_type": "stream",
          "name": "stdout",
          "text": [
            "5 15 36.0 208.5 75\n"
          ]
        }
      ]
    },
    {
      "cell_type": "code",
      "execution_count": null,
      "metadata": {
        "colab": {
          "base_uri": "https://localhost:8080/"
        },
        "id": "7Ddcnh1VSu-d",
        "outputId": "6688859a-7747-4438-b8e6-1153245227a9"
      },
      "outputs": [
        {
          "output_type": "stream",
          "name": "stdout",
          "text": [
            "[5, 3, -1, 2, 6] [14, 6, -5.5, 3.5, 18]\n"
          ]
        }
      ],
      "source": [
        "x = [5, 3, -1, 2, 6]\n",
        "y = [14, 6, -5.5, 3.5, 18]\n",
        "print(x, y)"
      ]
    },
    {
      "cell_type": "code",
      "source": [
        "w1 = (n * XiYi - X * Y) / (n * Xi2 - X**2)\n",
        "print(w1)"
      ],
      "metadata": {
        "colab": {
          "base_uri": "https://localhost:8080/"
        },
        "id": "tsGNDYVST04r",
        "outputId": "8bce73ea-9104-4285-fd12-19cebdaaf9ee"
      },
      "execution_count": null,
      "outputs": [
        {
          "output_type": "stream",
          "name": "stdout",
          "text": [
            "3.35\n"
          ]
        }
      ]
    },
    {
      "cell_type": "code",
      "source": [
        "w0 = (Y-w1*X)/n\n",
        "print(w0)"
      ],
      "metadata": {
        "colab": {
          "base_uri": "https://localhost:8080/"
        },
        "id": "vVnwe5KhUJF8",
        "outputId": "340eb7a4-93db-4c68-c55f-8767177662d8"
      },
      "execution_count": null,
      "outputs": [
        {
          "output_type": "stream",
          "name": "stdout",
          "text": [
            "-2.85\n"
          ]
        }
      ]
    }
  ]
}