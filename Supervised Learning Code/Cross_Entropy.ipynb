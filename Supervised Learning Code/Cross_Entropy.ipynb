{
  "nbformat": 4,
  "nbformat_minor": 0,
  "metadata": {
    "colab": {
      "provenance": []
    },
    "kernelspec": {
      "name": "python3",
      "display_name": "Python 3"
    },
    "language_info": {
      "name": "python"
    }
  },
  "cells": [
    {
      "cell_type": "code",
      "execution_count": 1,
      "metadata": {
        "colab": {
          "base_uri": "https://localhost:8080/"
        },
        "id": "Pn3yLYDJKKoU",
        "outputId": "ae423f90-4b5d-495f-91ed-6964e241b05d"
      },
      "outputs": [
        {
          "output_type": "stream",
          "name": "stdout",
          "text": [
            "BCE: 0.3722\n",
            "BCE: 1.8631\n"
          ]
        }
      ],
      "source": [
        "import numpy as np\n",
        "\n",
        "def binary_cross_entropy_manual(y_true, y_pred):\n",
        "\n",
        "    epsilon = 1e-10\n",
        "    y_pred = np.clip(y_pred, epsilon, 1 - epsilon)\n",
        "\n",
        "    loss = -(y_true * np.log(y_pred) + (1 - y_true) * np.log(1 - y_pred))\n",
        "\n",
        "    return np.mean(loss)\n",
        "\n",
        "y_true_bce = np.array([1, 0, 1, 1, 0])\n",
        "y_pred_bce = np.array([0.9, 0.1, 0.8, 0.3, 0.2])\n",
        "\n",
        "loss_bce_manual = binary_cross_entropy_manual(y_true_bce, y_pred_bce)\n",
        "print(f\"BCE: {loss_bce_manual:.4f}\")\n",
        "\n",
        "y_pred_bad_bce = np.array([0.1, 0.9, 0.1, 0.9, 0.9])\n",
        "loss_bce_bad_manual = binary_cross_entropy_manual(y_true_bce, y_pred_bad_bce)\n",
        "print(f\"BCE: {loss_bce_bad_manual:.4f}\")"
      ]
    },
    {
      "cell_type": "code",
      "source": [
        "def categorical_cross_entropy_manual(y_true_one_hot, y_pred_probs):\n",
        "    epsilon = 1e-10\n",
        "    y_pred_probs = np.clip(y_pred_probs, epsilon, 1 - epsilon)\n",
        "\n",
        "    loss = -np.sum(y_true_one_hot * np.log(y_pred_probs), axis=1)\n",
        "    return np.mean(loss)\n",
        "\n",
        "\n",
        "y_true_cce_one_hot = np.array([\n",
        "    [1, 0, 0],\n",
        "    [0, 1, 0],\n",
        "    [0, 0, 1]\n",
        "])\n",
        "y_pred_cce_probs = np.array([\n",
        "    [0.7, 0.2, 0.1],\n",
        "    [0.1, 0.8, 0.1],\n",
        "    [0.5, 0.2, 0.3]\n",
        "])\n",
        "\n",
        "loss_cce_manual = categorical_cross_entropy_manual(y_true_cce_one_hot, y_pred_cce_probs)\n",
        "print(f\"CCE: {loss_cce_manual:.4f}\")\n",
        "\n",
        "y_pred_bad_cce_probs = np.array([\n",
        "    [0.1, 0.8, 0.1],\n",
        "    [0.7, 0.1, 0.2],\n",
        "    [0.2, 0.3, 0.5]\n",
        "])\n",
        "loss_cce_bad_manual = categorical_cross_entropy_manual(y_true_cce_one_hot, y_pred_bad_cce_probs)\n",
        "print(f\"CCE: {loss_cce_bad_manual:.4f}\")"
      ],
      "metadata": {
        "colab": {
          "base_uri": "https://localhost:8080/"
        },
        "id": "Qeuba3V4KZKL",
        "outputId": "affe8e7b-6e20-4cab-e762-6e920866cd71"
      },
      "execution_count": 2,
      "outputs": [
        {
          "output_type": "stream",
          "name": "stdout",
          "text": [
            "CCE: 0.5946\n",
            "CCE: 1.7661\n"
          ]
        }
      ]
    },
    {
      "cell_type": "code",
      "source": [],
      "metadata": {
        "id": "I_QEdmp-Kps7"
      },
      "execution_count": null,
      "outputs": []
    }
  ]
}