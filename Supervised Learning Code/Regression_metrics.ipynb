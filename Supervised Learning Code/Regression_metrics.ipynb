{
  "nbformat": 4,
  "nbformat_minor": 0,
  "metadata": {
    "colab": {
      "provenance": []
    },
    "kernelspec": {
      "name": "python3",
      "display_name": "Python 3"
    },
    "language_info": {
      "name": "python"
    }
  },
  "cells": [
    {
      "cell_type": "code",
      "execution_count": 1,
      "metadata": {
        "colab": {
          "base_uri": "https://localhost:8080/"
        },
        "id": "SEOOLDQBKeVs",
        "outputId": "e500f9b0-4ece-4a80-9646-d7a3e60696b2"
      },
      "outputs": [
        {
          "output_type": "stream",
          "name": "stdout",
          "text": [
            "Mean Absolute Error (MAE): 0.4750\n",
            "Mean Squared Error (MSE): 0.2875\n",
            "Root Mean Squared Error (RMSE): 0.5362\n",
            "R-squared Score (R²): 0.9606\n"
          ]
        }
      ],
      "source": [
        "# Function to calculate Mean Absolute Error (MAE)\n",
        "def mean_absolute_error(y_true, y_pred):\n",
        "    n = len(y_true)\n",
        "    error_sum = 0.0\n",
        "    for i in range(n):\n",
        "        error_sum += abs(y_true[i] - y_pred[i])\n",
        "    return error_sum / n\n",
        "\n",
        "# Function to calculate Mean Squared Error (MSE)\n",
        "def mean_squared_error(y_true, y_pred):\n",
        "    n = len(y_true)\n",
        "    error_sum = 0.0\n",
        "    for i in range(n):\n",
        "        error = y_true[i] - y_pred[i]\n",
        "        error_sum += error ** 2\n",
        "    return error_sum / n\n",
        "\n",
        "# Function to calculate Root Mean Squared Error (RMSE)\n",
        "def root_mean_squared_error(y_true, y_pred):\n",
        "    mse = mean_squared_error(y_true, y_pred)\n",
        "    return mse ** 0.5\n",
        "\n",
        "# Function to calculate R-squared Score (R²)\n",
        "def r2_score(y_true, y_pred):\n",
        "    n = len(y_true)\n",
        "    y_mean = sum(y_true) / n\n",
        "    total_sum_squares = 0.0\n",
        "    residual_sum_squares = 0.0\n",
        "    for i in range(n):\n",
        "        total_sum_squares += (y_true[i] - y_mean) ** 2\n",
        "        residual_sum_squares += (y_true[i] - y_pred[i]) ** 2\n",
        "    return 1 - (residual_sum_squares / total_sum_squares)\n",
        "\n",
        "# ==========================\n",
        "# Example usage\n",
        "# ==========================\n",
        "y_true = [3.0, -0.5, 2.0, 7.0]\n",
        "y_pred = [2.5, 0.0, 2.1, 7.8]\n",
        "\n",
        "# Calculate all metrics\n",
        "mae = mean_absolute_error(y_true, y_pred)\n",
        "mse = mean_squared_error(y_true, y_pred)\n",
        "rmse = root_mean_squared_error(y_true, y_pred)\n",
        "r2 = r2_score(y_true, y_pred)\n",
        "\n",
        "# Print the results\n",
        "print(f\"Mean Absolute Error (MAE): {mae:.4f}\")\n",
        "print(f\"Mean Squared Error (MSE): {mse:.4f}\")\n",
        "print(f\"Root Mean Squared Error (RMSE): {rmse:.4f}\")\n",
        "print(f\"R-squared Score (R²): {r2:.4f}\")"
      ]
    },
    {
      "cell_type": "markdown",
      "source": [
        "# Using Scikit Learn"
      ],
      "metadata": {
        "id": "_HYVa6cXLjle"
      }
    },
    {
      "cell_type": "code",
      "source": [
        "import numpy as np\n",
        "from sklearn.metrics import mean_absolute_error, mean_squared_error, r2_score\n",
        "\n",
        "# Sample true values (actual outputs) and predicted values by a regression model\n",
        "y_true = [3.0, -0.5, 2.0, 7.0]\n",
        "y_pred = [2.5, 0.0, 2.1, 7.8]\n",
        "\n",
        "# Mean Absolute Error (MAE)\n",
        "# Measures the average magnitude of the errors in a set of predictions, without considering their direction.\n",
        "mae = mean_absolute_error(y_true, y_pred)\n",
        "\n",
        "# Mean Squared Error (MSE) and Root Mean Squared Error (RMSE)\n",
        "# MSE: Measures the average of the squares of the errors.\n",
        "# RMSE: The square root of MSE; it gives the error in the same units as the original data.\n",
        "mse = mean_squared_error(y_true, y_pred)\n",
        "rmse = np.sqrt(mse)\n",
        "\n",
        "# R-squared Score (R²)\n",
        "# Represents the proportion of variance in the dependent variable that is predictable from the independent variables.\n",
        "r2 = r2_score(y_true, y_pred)\n",
        "\n",
        "# Display the evaluation metrics\n",
        "print(f\"Mean Absolute Error (MAE): {mae:.4f}\")\n",
        "print(f\"Mean Squared Error (MSE): {mse:.4f}\")\n",
        "print(f\"Root Mean Squared Error (RMSE): {rmse:.4f}\")\n",
        "print(f\"R-squared Score (R²): {r2:.4f}\")\n"
      ],
      "metadata": {
        "colab": {
          "base_uri": "https://localhost:8080/"
        },
        "id": "vqJptyyvLXu_",
        "outputId": "80deaac8-91ad-4e57-f32d-c1e9cfb19a4e"
      },
      "execution_count": 2,
      "outputs": [
        {
          "output_type": "stream",
          "name": "stdout",
          "text": [
            "Mean Absolute Error (MAE): 0.4750\n",
            "Mean Squared Error (MSE): 0.2875\n",
            "Root Mean Squared Error (RMSE): 0.5362\n",
            "R-squared Score (R²): 0.9606\n"
          ]
        }
      ]
    },
    {
      "cell_type": "code",
      "source": [],
      "metadata": {
        "id": "BHxeLPpOLgCQ"
      },
      "execution_count": null,
      "outputs": []
    }
  ]
}